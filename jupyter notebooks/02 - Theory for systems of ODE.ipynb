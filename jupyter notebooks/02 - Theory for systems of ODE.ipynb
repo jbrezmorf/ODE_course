{
 "cells": [
  {
   "cell_type": "code",
   "execution_count": null,
   "id": "b3b27608-15b8-4918-a124-fc4a4c98f7fe",
   "metadata": {},
   "outputs": [],
   "source": []
  }
 ],
 "metadata": {
  "kernelspec": {
   "display_name": "Python 3 (ipykernel)",
   "language": "python",
   "name": "python3"
  },
  "language_info": {
   "codemirror_mode": {
    "name": "ipython",
    "version": 3
   },
   "file_extension": ".py",
   "mimetype": "text/x-python",
   "name": "python",
   "nbconvert_exporter": "python",
   "pygments_lexer": "ipython3",
   "version": "3.8.10"
  }
 },
 "nbformat": 4,
 "nbformat_minor": 5
}
