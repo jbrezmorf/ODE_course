{
 "cells": [
  {
   "cell_type": "markdown",
   "id": "f7a5a87c-2594-4805-adbc-b4e518d1c151",
   "metadata": {},
   "source": [
    "# Table of Contents\n",
    "\n",
    "1. [01 - Introduction and Physics Motivation](<./jupyter notebooks/01 - Introduction and Physics Motivation.ipynb>) Clasification, basic methods, physicaly motivated examples\n",
    "2. [02 - Theory for Systems of ODEs](<./jupyter notebooks/02 - Theory for Systems of ODE.ipynb>) Basic theory of ODE systems\n",
    "3. [03 - Linear Systems](<./jupyter notebooks/03 - Linear Systems.ipynb>) Linear ODE systems\n",
    "4. [04 - Numerical Methods - Explicit Euler](<./jupyter notebooks/04 - Numerical Methods - Explicit Euler.ipynb>) Euler method, clasification of errors\n",
    "5. [05 - Implicit Euler Method](<./jupyter notebooks/05 - Implicit Euler Method.ipynb>) Absolute stability, Implicit Euler method\n",
    "6. [06 - Runge-Kuta Methods](<./jupyter notebooks/06 - Runge-Kuta Methods.ipynb>) Runge-Kutta methods\n",
    "7. [07 - Multistep Methods and Beyond](<./jupyter notebooks/07 - Multistep Methods and Beyond.ipynb>) Multi-step methods and more\n"
   ]
  }
 ],
 "metadata": {
  "kernelspec": {
   "display_name": "Python 3 (ipykernel)",
   "language": "python",
   "name": "python3"
  },
  "language_info": {
   "codemirror_mode": {
    "name": "ipython",
    "version": 3
   },
   "file_extension": ".py",
   "mimetype": "text/x-python",
   "name": "python",
   "nbconvert_exporter": "python",
   "pygments_lexer": "ipython3",
   "version": "3.13.2"
  }
 },
 "nbformat": 4,
 "nbformat_minor": 5
}
